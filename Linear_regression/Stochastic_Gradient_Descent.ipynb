{
 "cells": [
  {
   "cell_type": "code",
   "execution_count": 62,
   "metadata": {},
   "outputs": [],
   "source": [
    "from sklearn.datasets import load_diabetes\n",
    "import numpy as np  \n",
    "from sklearn.model_selection import train_test_split\n",
    "from sklearn.metrics import r2_score\n",
    "import time"
   ]
  },
  {
   "cell_type": "code",
   "execution_count": 63,
   "metadata": {},
   "outputs": [],
   "source": [
    "X,y = load_diabetes(return_X_y=True)\n"
   ]
  },
  {
   "cell_type": "code",
   "execution_count": 64,
   "metadata": {},
   "outputs": [],
   "source": [
    "X_train, X_test, y_train, y_test = train_test_split(X, y, test_size=0.2, random_state=42)"
   ]
  },
  {
   "cell_type": "code",
   "execution_count": 65,
   "metadata": {},
   "outputs": [],
   "source": [
    "class sgd_regressor:\n",
    "    def __init__(self,learnig_rate=0.01,epochs=100):\n",
    "        self.learning_rate = learnig_rate\n",
    "        self.epochs = epochs\n",
    "        self.weights = None\n",
    "        self.bias = None\n",
    "    def fit(self,X_train,y_train):\n",
    "        self.weights = np.zeros(X_train.shape[1])\n",
    "        self.bias = 0\n",
    "        for _ in range(self.epochs):\n",
    "            for i in range(X_train.shape[0]):\n",
    "                idx= np.random.randint(X_train.shape[0])\n",
    "                y_hat = np.dot(self.weights,X_train[idx]) + self.bias\n",
    "                error = y_train[idx] - y_hat\n",
    "                self.weights += (2)*(self.learning_rate * error * X_train[idx])\n",
    "                self.bias += (2)*(self.learning_rate * error)\n",
    "        print(self.bias,self.weights)\n",
    "        \n",
    "    def predict(self,X_test):\n",
    "        y_pred = []\n",
    "        for i in range(X_test.shape[0]):\n",
    "            y_hat = np.dot(self.weights,X_test[i]) + self.bias\n",
    "            y_pred.append(y_hat)\n",
    "        return y_pred\n",
    "        "
   ]
  },
  {
   "cell_type": "code",
   "execution_count": 49,
   "metadata": {},
   "outputs": [],
   "source": [
    "sgd= sgd_regressor(learnig_rate=0.2,epochs=100)"
   ]
  },
  {
   "cell_type": "code",
   "execution_count": 66,
   "metadata": {},
   "outputs": [
    {
     "name": "stdout",
     "output_type": "stream",
     "text": [
      "153.03506031167026 [  26.19691479 -242.38812658  532.95763381  344.12825552  -90.89342034\n",
      " -126.46389944 -214.68424016  136.68469666  403.10187317   65.8025957 ]\n"
     ]
    }
   ],
   "source": [
    "sgd.fit(X_train,y_train)"
   ]
  },
  {
   "cell_type": "code",
   "execution_count": 67,
   "metadata": {},
   "outputs": [
    {
     "data": {
      "text/plain": [
       "0.46203518344534134"
      ]
     },
     "execution_count": 67,
     "metadata": {},
     "output_type": "execute_result"
    }
   ],
   "source": [
    "r2_score(y_test,sgd.predict(X_test))"
   ]
  }
 ],
 "metadata": {
  "kernelspec": {
   "display_name": "base",
   "language": "python",
   "name": "python3"
  },
  "language_info": {
   "codemirror_mode": {
    "name": "ipython",
    "version": 3
   },
   "file_extension": ".py",
   "mimetype": "text/x-python",
   "name": "python",
   "nbconvert_exporter": "python",
   "pygments_lexer": "ipython3",
   "version": "3.12.7"
  }
 },
 "nbformat": 4,
 "nbformat_minor": 2
}
